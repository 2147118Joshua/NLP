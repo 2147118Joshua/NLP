{
  "nbformat": 4,
  "nbformat_minor": 0,
  "metadata": {
    "colab": {
      "name": "nlp_lab5.ipynb",
      "provenance": [],
      "collapsed_sections": [],
      "include_colab_link": true
    },
    "kernelspec": {
      "name": "python3",
      "display_name": "Python 3"
    },
    "language_info": {
      "name": "python"
    }
  },
  "cells": [
    {
      "cell_type": "markdown",
      "metadata": {
        "id": "view-in-github",
        "colab_type": "text"
      },
      "source": [
        "<a href=\"https://colab.research.google.com/github/2147118Joshua/NLP/blob/main/nlp_lab5.ipynb\" target=\"_parent\"><img src=\"https://colab.research.google.com/assets/colab-badge.svg\" alt=\"Open In Colab\"/></a>"
      ]
    },
    {
      "cell_type": "markdown",
      "source": [
        "LOADING DATASET"
      ],
      "metadata": {
        "id": "zfKCE6SmPD3F"
      }
    },
    {
      "cell_type": "code",
      "source": [
        "import nltk\n",
        "from nltk.corpus import stopwords\n",
        "from nltk.tokenize import word_tokenize\n",
        "from nltk.tokenize import *\n",
        "from nltk.corpus import stopwords\n",
        "from nltk.tokenize import word_tokenize\n",
        "from nltk.probability import FreqDist\n",
        "nltk.download('stopwords')\n",
        "nltk.download('punkt')\n",
        "import numpy as np\n",
        "import pandas as pd\n",
        "#this is my csv data \n",
        "data = pd.read_csv(\"farmersSuervey.csv\")\n",
        "#prints first 10 file in csv\n",
        "data.head()"
      ],
      "metadata": {
        "colab": {
          "base_uri": "https://localhost:8080/",
          "height": 241
        },
        "id": "nVOpKdQPOokA",
        "outputId": "fc2fadc5-12e1-4666-997e-83018724effc"
      },
      "execution_count": 8,
      "outputs": [
        {
          "output_type": "stream",
          "name": "stderr",
          "text": [
            "[nltk_data] Downloading package stopwords to /root/nltk_data...\n",
            "[nltk_data]   Package stopwords is already up-to-date!\n",
            "[nltk_data] Downloading package punkt to /root/nltk_data...\n",
            "[nltk_data]   Package punkt is already up-to-date!\n"
          ]
        },
        {
          "output_type": "execute_result",
          "data": {
            "text/plain": [
              "      Id                            Complain    name\n",
              "0   1312                        Bad medicine    Raju\n",
              "1  23141  No proper response from the office     Leo\n",
              "2  41231                 Very bad experience  Joshua\n",
              "3   8334   Plants are getting more infected   Stalin"
            ],
            "text/html": [
              "\n",
              "  <div id=\"df-777f1a08-9f51-409d-8344-9957669a45f9\">\n",
              "    <div class=\"colab-df-container\">\n",
              "      <div>\n",
              "<style scoped>\n",
              "    .dataframe tbody tr th:only-of-type {\n",
              "        vertical-align: middle;\n",
              "    }\n",
              "\n",
              "    .dataframe tbody tr th {\n",
              "        vertical-align: top;\n",
              "    }\n",
              "\n",
              "    .dataframe thead th {\n",
              "        text-align: right;\n",
              "    }\n",
              "</style>\n",
              "<table border=\"1\" class=\"dataframe\">\n",
              "  <thead>\n",
              "    <tr style=\"text-align: right;\">\n",
              "      <th></th>\n",
              "      <th>Id</th>\n",
              "      <th>Complain</th>\n",
              "      <th>name</th>\n",
              "    </tr>\n",
              "  </thead>\n",
              "  <tbody>\n",
              "    <tr>\n",
              "      <th>0</th>\n",
              "      <td>1312</td>\n",
              "      <td>Bad medicine</td>\n",
              "      <td>Raju</td>\n",
              "    </tr>\n",
              "    <tr>\n",
              "      <th>1</th>\n",
              "      <td>23141</td>\n",
              "      <td>No proper response from the office</td>\n",
              "      <td>Leo</td>\n",
              "    </tr>\n",
              "    <tr>\n",
              "      <th>2</th>\n",
              "      <td>41231</td>\n",
              "      <td>Very bad experience</td>\n",
              "      <td>Joshua</td>\n",
              "    </tr>\n",
              "    <tr>\n",
              "      <th>3</th>\n",
              "      <td>8334</td>\n",
              "      <td>Plants are getting more infected</td>\n",
              "      <td>Stalin</td>\n",
              "    </tr>\n",
              "  </tbody>\n",
              "</table>\n",
              "</div>\n",
              "      <button class=\"colab-df-convert\" onclick=\"convertToInteractive('df-777f1a08-9f51-409d-8344-9957669a45f9')\"\n",
              "              title=\"Convert this dataframe to an interactive table.\"\n",
              "              style=\"display:none;\">\n",
              "        \n",
              "  <svg xmlns=\"http://www.w3.org/2000/svg\" height=\"24px\"viewBox=\"0 0 24 24\"\n",
              "       width=\"24px\">\n",
              "    <path d=\"M0 0h24v24H0V0z\" fill=\"none\"/>\n",
              "    <path d=\"M18.56 5.44l.94 2.06.94-2.06 2.06-.94-2.06-.94-.94-2.06-.94 2.06-2.06.94zm-11 1L8.5 8.5l.94-2.06 2.06-.94-2.06-.94L8.5 2.5l-.94 2.06-2.06.94zm10 10l.94 2.06.94-2.06 2.06-.94-2.06-.94-.94-2.06-.94 2.06-2.06.94z\"/><path d=\"M17.41 7.96l-1.37-1.37c-.4-.4-.92-.59-1.43-.59-.52 0-1.04.2-1.43.59L10.3 9.45l-7.72 7.72c-.78.78-.78 2.05 0 2.83L4 21.41c.39.39.9.59 1.41.59.51 0 1.02-.2 1.41-.59l7.78-7.78 2.81-2.81c.8-.78.8-2.07 0-2.86zM5.41 20L4 18.59l7.72-7.72 1.47 1.35L5.41 20z\"/>\n",
              "  </svg>\n",
              "      </button>\n",
              "      \n",
              "  <style>\n",
              "    .colab-df-container {\n",
              "      display:flex;\n",
              "      flex-wrap:wrap;\n",
              "      gap: 12px;\n",
              "    }\n",
              "\n",
              "    .colab-df-convert {\n",
              "      background-color: #E8F0FE;\n",
              "      border: none;\n",
              "      border-radius: 50%;\n",
              "      cursor: pointer;\n",
              "      display: none;\n",
              "      fill: #1967D2;\n",
              "      height: 32px;\n",
              "      padding: 0 0 0 0;\n",
              "      width: 32px;\n",
              "    }\n",
              "\n",
              "    .colab-df-convert:hover {\n",
              "      background-color: #E2EBFA;\n",
              "      box-shadow: 0px 1px 2px rgba(60, 64, 67, 0.3), 0px 1px 3px 1px rgba(60, 64, 67, 0.15);\n",
              "      fill: #174EA6;\n",
              "    }\n",
              "\n",
              "    [theme=dark] .colab-df-convert {\n",
              "      background-color: #3B4455;\n",
              "      fill: #D2E3FC;\n",
              "    }\n",
              "\n",
              "    [theme=dark] .colab-df-convert:hover {\n",
              "      background-color: #434B5C;\n",
              "      box-shadow: 0px 1px 3px 1px rgba(0, 0, 0, 0.15);\n",
              "      filter: drop-shadow(0px 1px 2px rgba(0, 0, 0, 0.3));\n",
              "      fill: #FFFFFF;\n",
              "    }\n",
              "  </style>\n",
              "\n",
              "      <script>\n",
              "        const buttonEl =\n",
              "          document.querySelector('#df-777f1a08-9f51-409d-8344-9957669a45f9 button.colab-df-convert');\n",
              "        buttonEl.style.display =\n",
              "          google.colab.kernel.accessAllowed ? 'block' : 'none';\n",
              "\n",
              "        async function convertToInteractive(key) {\n",
              "          const element = document.querySelector('#df-777f1a08-9f51-409d-8344-9957669a45f9');\n",
              "          const dataTable =\n",
              "            await google.colab.kernel.invokeFunction('convertToInteractive',\n",
              "                                                     [key], {});\n",
              "          if (!dataTable) return;\n",
              "\n",
              "          const docLinkHtml = 'Like what you see? Visit the ' +\n",
              "            '<a target=\"_blank\" href=https://colab.research.google.com/notebooks/data_table.ipynb>data table notebook</a>'\n",
              "            + ' to learn more about interactive tables.';\n",
              "          element.innerHTML = '';\n",
              "          dataTable['output_type'] = 'display_data';\n",
              "          await google.colab.output.renderOutput(dataTable, element);\n",
              "          const docLink = document.createElement('div');\n",
              "          docLink.innerHTML = docLinkHtml;\n",
              "          element.appendChild(docLink);\n",
              "        }\n",
              "      </script>\n",
              "    </div>\n",
              "  </div>\n",
              "  "
            ]
          },
          "metadata": {},
          "execution_count": 8
        }
      ]
    },
    {
      "cell_type": "markdown",
      "source": [
        "CHOOSING WORD FROM DATASET FOR SYSNET / WORDNET"
      ],
      "metadata": {
        "id": "5JV9SdGjQKZh"
      }
    },
    {
      "cell_type": "code",
      "source": [
        "english_text=data[\"Complain\"][3]\n",
        "print(\"\\n selcetd Sentence is \"+english_text)\n",
        "count = 0\n",
        "N=3\n",
        "res = \"\"\n",
        "for ele in english_text:\n",
        "    if ele == ' ':\n",
        "        count = count + 1\n",
        "        if count == N:\n",
        "            break\n",
        "        res = \"\"\n",
        "    else :\n",
        "        res = res + ele\n",
        "\n",
        "print(\"selected word is : \" + res)        "
      ],
      "metadata": {
        "colab": {
          "base_uri": "https://localhost:8080/"
        },
        "id": "ZxmGqixWPLlO",
        "outputId": "580f078c-55a7-4da4-a3d8-e2db06efddee"
      },
      "execution_count": 12,
      "outputs": [
        {
          "output_type": "stream",
          "name": "stdout",
          "text": [
            "\n",
            " selcetd Sentence is Plants are getting more infected \n",
            "selected word is : getting\n"
          ]
        }
      ]
    },
    {
      "cell_type": "markdown",
      "source": [
        "PREPROCESSING"
      ],
      "metadata": {
        "id": "LZhuNWI5Nyug"
      }
    },
    {
      "cell_type": "code",
      "source": [
        "from nltk.corpus import wordnet   #Import wordnet from the NLTK\n",
        "import nltk\n",
        "nltk.download('wordnet')\n",
        "nltk.download('omw-1.4')\n",
        "synset = wordnet.synsets(res)"
      ],
      "metadata": {
        "colab": {
          "base_uri": "https://localhost:8080/"
        },
        "id": "JTx_PebhLmZ3",
        "outputId": "be959d4e-fae1-49ec-a0c6-ccedf964302d"
      },
      "execution_count": 13,
      "outputs": [
        {
          "output_type": "stream",
          "name": "stderr",
          "text": [
            "[nltk_data] Downloading package wordnet to /root/nltk_data...\n",
            "[nltk_data]   Package wordnet is already up-to-date!\n",
            "[nltk_data] Downloading package omw-1.4 to /root/nltk_data...\n",
            "[nltk_data]   Package omw-1.4 is already up-to-date!\n"
          ]
        }
      ]
    },
    {
      "cell_type": "markdown",
      "source": [
        "SYNSET"
      ],
      "metadata": {
        "id": "dhEKqysFN2mf"
      }
    },
    {
      "cell_type": "code",
      "source": [
        "from nltk.corpus import wordnet\n",
        "   #Import wordnet from the NLTK\n",
        "synset = wordnet.synsets(res)\n",
        "print('\\nWord and Type : ' + synset[1].name())\n",
        "print('\\nSynonym of '+res+ ' is: ' + synset[0].lemmas()[0].name())\n",
        "print('\\nThe meaning of the word '+res+ ' is ' + synset[0].definition())\n",
        "print('\\nExample of '+res+ ' is' + str(synset[0].examples()))"
      ],
      "metadata": {
        "colab": {
          "base_uri": "https://localhost:8080/"
        },
        "id": "m7VOiczGNrGQ",
        "outputId": "7096eae0-b03c-46c7-9d2a-de19e7f26bc9"
      },
      "execution_count": 14,
      "outputs": [
        {
          "output_type": "stream",
          "name": "stdout",
          "text": [
            "\n",
            "Word and Type : get.v.01\n",
            "\n",
            "Synonym of getting is: acquiring\n",
            "\n",
            "The meaning of the word getting is the act of acquiring something\n",
            "\n",
            "Example of getting is['I envied his talent for acquiring', \"he's much more interested in the getting than in the giving\"]\n"
          ]
        }
      ]
    },
    {
      "cell_type": "markdown",
      "source": [
        "SYONYNMS AND ANTONYMS"
      ],
      "metadata": {
        "id": "o_WPTodiNsce"
      }
    },
    {
      "cell_type": "code",
      "execution_count": 15,
      "metadata": {
        "colab": {
          "base_uri": "https://localhost:8080/"
        },
        "id": "RcGEvvutK3hU",
        "outputId": "2a28d694-d3b0-49f6-9139-961bd79c4ec7"
      },
      "outputs": [
        {
          "output_type": "stream",
          "name": "stdout",
          "text": [
            "synonyms of proper\n",
            " {'make', 'acquiring', 'vex', \"get_under_one's_skin\", 'sire', 'fuck_off', 'begin', 'stupefy', 'scram', 'dumbfound', 'stick', 'grow', 'buzz_off', 'father', 'obtain', 'get', 'let', 'convey', 'experience', 'drive', 'pose', 'get_down', 'capture', 'produce', 'fetch', 'start', 'pay_off', 'engender', 'incur', 'fix', 'acquire', 'cause', 'aim', 'amaze', 'go', 'become', 'arrive', 'arrest', 'perplex', 'pay_back', 'bewilder', 'contract', 'baffle', 'set_out', 'have', 'start_out', 'stimulate', 'puzzle', 'bugger_off', 'flummox', 'gravel', 'draw', 'generate', 'sustain', 'develop', 'mystify', 'take', 'nonplus', 'catch', 'beat', 'bring_forth', 'mother', 'set_about', 'find', 'bring', 'getting', 'receive', 'commence', 'beget', 'come', 'induce', 'suffer'}\n",
            "antonyms of proper\n",
            " {'end', 'take_away', 'leave'}\n"
          ]
        }
      ],
      "source": [
        "synonyms = []\n",
        "antonyms = []\n",
        "\n",
        "for synset in wordnet.synsets(res):\n",
        "    for l in synset.lemmas():\n",
        "        synonyms.append(l.name())\n",
        "        if l.antonyms():\n",
        "            antonyms.append(l.antonyms()[0].name())\n",
        "print(\"synonyms of proper\\n\",set(synonyms))\n",
        "print(\"antonyms of proper\\n\",set(antonyms))"
      ]
    }
  ]
}