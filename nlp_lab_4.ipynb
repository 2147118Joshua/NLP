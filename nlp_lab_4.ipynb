{
  "nbformat": 4,
  "nbformat_minor": 0,
  "metadata": {
    "colab": {
      "name": "nlp_lab_4.ipynb",
      "provenance": [],
      "collapsed_sections": [],
      "include_colab_link": true
    },
    "kernelspec": {
      "name": "python3",
      "display_name": "Python 3"
    },
    "language_info": {
      "name": "python"
    }
  },
  "cells": [
    {
      "cell_type": "markdown",
      "metadata": {
        "id": "view-in-github",
        "colab_type": "text"
      },
      "source": [
        "<a href=\"https://colab.research.google.com/github/2147118Joshua/NLP/blob/main/nlp_lab_4.ipynb\" target=\"_parent\"><img src=\"https://colab.research.google.com/assets/colab-badge.svg\" alt=\"Open In Colab\"/></a>"
      ]
    },
    {
      "cell_type": "code",
      "execution_count": 3,
      "metadata": {
        "colab": {
          "base_uri": "https://localhost:8080/"
        },
        "id": "evCsZx9qH2v2",
        "outputId": "fcadd65a-74b4-4055-bcf9-04e28df4c26f"
      },
      "outputs": [
        {
          "output_type": "stream",
          "name": "stderr",
          "text": [
            "[nltk_data] Downloading package wordnet to /root/nltk_data...\n",
            "[nltk_data]   Package wordnet is already up-to-date!\n",
            "[nltk_data] Downloading package omw-1.4 to /root/nltk_data...\n",
            "[nltk_data]   Package omw-1.4 is already up-to-date!\n"
          ]
        }
      ],
      "source": [
        "from nltk.corpus import wordnet   #Import wordnet from the NLTK\n",
        "import nltk\n",
        "nltk.download('wordnet')\n",
        "nltk.download('omw-1.4')\n",
        "synset = wordnet.synsets(\"nature\")\n"
      ]
    },
    {
      "cell_type": "code",
      "source": [
        "from nltk.corpus import wordnet\n",
        "   #Import wordnet from the NLTK\n",
        "synset = wordnet.synsets(\"nature\")\n",
        "print('\\nWord and Type : ' + synset[0].name())\n",
        "print('\\nSynonym of nature is: ' + synset[0].lemmas()[0].name())\n",
        "print('\\nThe meaning of the word : ' + synset[0].definition())\n",
        "print('\\nExample of nature : ' + str(synset[0].examples()))"
      ],
      "metadata": {
        "colab": {
          "base_uri": "https://localhost:8080/"
        },
        "id": "O01gPL0ZLquC",
        "outputId": "33486759-3231-4d4a-cdb0-81adc250f2b5"
      },
      "execution_count": 5,
      "outputs": [
        {
          "output_type": "stream",
          "name": "stdout",
          "text": [
            "\n",
            "Word and Type : nature.n.01\n",
            "\n",
            "Synonym of nature is: nature\n",
            "\n",
            "The meaning of the word : the essential qualities or characteristics by which something is recognized\n",
            "\n",
            "Example of nature : ['it is the nature of fire to burn', 'the true nature of jealousy']\n"
          ]
        }
      ]
    },
    {
      "cell_type": "code",
      "source": [
        "import nltk\n",
        "from nltk.corpus import wordnet   #Import wordnet from the NLTK\n",
        "syn = list()\n",
        "for synset in wordnet.synsets(\"nature\"):\n",
        "   for lemma in synset.lemmas():\n",
        "      syn.append(lemma.name())    #add the synonyms\n",
        "print('Synonyms For nature: '+ str(syn))\n"
      ],
      "metadata": {
        "colab": {
          "base_uri": "https://localhost:8080/"
        },
        "id": "Hwj4DRMyLyUU",
        "outputId": "f8c5cafe-eb1f-4ae3-e49e-4c9aa46e2db2"
      },
      "execution_count": 6,
      "outputs": [
        {
          "output_type": "stream",
          "name": "stdout",
          "text": [
            "Synonyms For nature: ['nature', 'nature', 'nature', 'nature', 'nature']\n"
          ]
        }
      ]
    },
    {
      "cell_type": "code",
      "source": [
        " synset.hypernyms()"
      ],
      "metadata": {
        "colab": {
          "base_uri": "https://localhost:8080/"
        },
        "id": "ggWdMSF_MAeN",
        "outputId": "c81a5cc4-c697-4a2b-9a68-8c5860932fb0"
      },
      "execution_count": 7,
      "outputs": [
        {
          "output_type": "execute_result",
          "data": {
            "text/plain": [
              "[Synset('type.n.01')]"
            ]
          },
          "metadata": {},
          "execution_count": 7
        }
      ]
    },
    {
      "cell_type": "code",
      "source": [
        "synset.hyponyms()"
      ],
      "metadata": {
        "colab": {
          "base_uri": "https://localhost:8080/"
        },
        "id": "YJLKUpe0MU_9",
        "outputId": "a246249c-3002-4fd3-ee43-74c7168cb12a"
      },
      "execution_count": null,
      "outputs": [
        {
          "output_type": "execute_result",
          "data": {
            "text/plain": [
              "[]"
            ]
          },
          "metadata": {},
          "execution_count": 7
        }
      ]
    },
    {
      "cell_type": "code",
      "source": [
        "synset.member_holonyms()"
      ],
      "metadata": {
        "colab": {
          "base_uri": "https://localhost:8080/"
        },
        "id": "cDlNQWOnManV",
        "outputId": "2a56ba5d-c039-4f64-f671-9edd37da0490"
      },
      "execution_count": null,
      "outputs": [
        {
          "output_type": "execute_result",
          "data": {
            "text/plain": [
              "[]"
            ]
          },
          "metadata": {},
          "execution_count": 8
        }
      ]
    },
    {
      "cell_type": "code",
      "source": [
        "synset.root_hypernyms()"
      ],
      "metadata": {
        "colab": {
          "base_uri": "https://localhost:8080/"
        },
        "id": "MD4TBU0EMe_S",
        "outputId": "f641d74b-53da-4bf1-8047-dbf95e75cb52"
      },
      "execution_count": 8,
      "outputs": [
        {
          "output_type": "execute_result",
          "data": {
            "text/plain": [
              "[Synset('entity.n.01')]"
            ]
          },
          "metadata": {},
          "execution_count": 8
        }
      ]
    },
    {
      "cell_type": "code",
      "source": [
        "synonyms = []\n",
        "antonyms = []\n",
        "\n",
        "for synset in wordnet.synsets(\"nature\"):\n",
        "    for l in synset.lemmas():\n",
        "        synonyms.append(l.name())\n",
        "        if l.antonyms():\n",
        "            antonyms.append(l.antonyms()[0].name())\n",
        "print(set(synonyms))\n",
        "print(set(antonyms))"
      ],
      "metadata": {
        "id": "pChbiZD5MkWU",
        "colab": {
          "base_uri": "https://localhost:8080/"
        },
        "outputId": "9bf838c6-82ac-4c2f-c21b-f9bb8b25a034"
      },
      "execution_count": 9,
      "outputs": [
        {
          "output_type": "stream",
          "name": "stdout",
          "text": [
            "{'nature'}\n",
            "set()\n"
          ]
        }
      ]
    },
    {
      "cell_type": "code",
      "source": [
        "syn1 = wordnet.synsets('nature')[0]\n",
        "syn2 = wordnet.synsets('emotion')[0]\n",
        " \n",
        "print (\":  \", syn1.name())\n",
        "print (\" :  \", syn2.name())"
      ],
      "metadata": {
        "colab": {
          "base_uri": "https://localhost:8080/"
        },
        "id": "oi9STxv2O6YU",
        "outputId": "d8a13c76-4803-4aed-e339-f9115a365057"
      },
      "execution_count": 10,
      "outputs": [
        {
          "output_type": "stream",
          "name": "stdout",
          "text": [
            ":   nature.n.01\n",
            " :   emotion.n.01\n"
          ]
        }
      ]
    },
    {
      "cell_type": "code",
      "source": [
        "syn1.wup_similarity(syn2)"
      ],
      "metadata": {
        "id": "fJsueWTGP7Fj",
        "outputId": "1420d1a9-4287-4711-8044-29eaca1c2202",
        "colab": {
          "base_uri": "https://localhost:8080/"
        }
      },
      "execution_count": 11,
      "outputs": [
        {
          "output_type": "execute_result",
          "data": {
            "text/plain": [
              "0.5454545454545454"
            ]
          },
          "metadata": {},
          "execution_count": 11
        }
      ]
    }
  ]
}