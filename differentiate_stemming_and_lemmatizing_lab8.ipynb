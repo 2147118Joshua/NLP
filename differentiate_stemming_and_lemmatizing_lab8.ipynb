{
  "nbformat": 4,
  "nbformat_minor": 0,
  "metadata": {
    "colab": {
      "provenance": [],
      "collapsed_sections": [],
      "include_colab_link": true
    },
    "kernelspec": {
      "name": "python3",
      "display_name": "Python 3"
    },
    "language_info": {
      "name": "python"
    }
  },
  "cells": [
    {
      "cell_type": "markdown",
      "metadata": {
        "id": "view-in-github",
        "colab_type": "text"
      },
      "source": [
        "<a href=\"https://colab.research.google.com/github/2147118Joshua/NLP/blob/main/differentiate_stemming_and_lemmatizing_lab8.ipynb\" target=\"_parent\"><img src=\"https://colab.research.google.com/assets/colab-badge.svg\" alt=\"Open In Colab\"/></a>"
      ]
    },
    {
      "cell_type": "code",
      "execution_count": 1,
      "metadata": {
        "colab": {
          "base_uri": "https://localhost:8080/"
        },
        "id": "t54D-bnDLGKY",
        "outputId": "c9613c84-ee46-42fb-f88b-58db45bae4af"
      },
      "outputs": [
        {
          "output_type": "stream",
          "name": "stderr",
          "text": [
            "[nltk_data] Downloading package wordnet to /root/nltk_data...\n",
            "[nltk_data] Downloading package omw-1.4 to /root/nltk_data...\n",
            "[nltk_data] Downloading package punkt to /root/nltk_data...\n",
            "[nltk_data]   Unzipping tokenizers/punkt.zip.\n"
          ]
        }
      ],
      "source": [
        "import nltk \n",
        "nltk.download('wordnet') \n",
        "nltk.download('omw-1.4')\n",
        "nltk.download('punkt')\n",
        "from nltk.stem import \tWordNetLemmatizer\n",
        "from nltk.stem.porter import PorterStemmer"
      ]
    },
    {
      "cell_type": "code",
      "source": [
        "def lemme_stem(word:list):\n",
        "     for w in word:\n",
        "          from nltk.stem import PorterStemmer\n",
        "          from nltk.stem import WordNetLemmatizer\n",
        "          lemmatizer = WordNetLemmatizer()\n",
        "          stemmer = PorterStemmer()\n",
        "          print(\"NLTK Stemming and Lemmatization Process\".format(w.capitalize()))\n",
        "          print(\"\\nword:feet\")\n",
        "          print(\"Stemming: \" + stemmer.stem(w).capitalize() + \"\\n\" + \"Lemmatization : \" + lemmatizer.lemmatize(w).capitalize())\n",
        "\n",
        "\n",
        "lemme_stem([\"feet\"])\n",
        "\n",
        "print(\"\\n\\n******************************\\n\\n\")\n",
        "\n",
        "porter_stemmer  = PorterStemmer()\n",
        "text = \"A crop is a plant or plant product that can be grown and harvested for profit or subsistence.\"\n",
        "tokenization = nltk.word_tokenize(text)\n",
        "print(\"STEMMINNG\\n\")\n",
        "for w in tokenization:\n",
        "\tprint(\"Stemming for {} is {}\".format(w,porter_stemmer.stem(w)))  \n",
        "print(\"\\n\")\n",
        "print(\"LEMMATIZATION\\n\")\n",
        "wordnet_lemmatizer = WordNetLemmatizer()\n",
        "text = \"A crop is a plant or plant product that can be grown and harvested for profit or subsistence.\"\n",
        "tokenization = nltk.word_tokenize(text)\n",
        "for w in tokenization:\n",
        "\tprint(\"Lemma for {} is {}\".format(w, wordnet_lemmatizer.lemmatize(w)))  "
      ],
      "metadata": {
        "colab": {
          "base_uri": "https://localhost:8080/"
        },
        "id": "yTTOrgMTLaJZ",
        "outputId": "ed067c68-db08-4038-bb93-d014fe807a20"
      },
      "execution_count": 2,
      "outputs": [
        {
          "output_type": "stream",
          "name": "stdout",
          "text": [
            "NLTK Stemming and Lemmatization Process\n",
            "\n",
            "word:feet\n",
            "Stemming: Feet\n",
            "Lemmatization : Foot\n",
            "\n",
            "\n",
            "******************************\n",
            "\n",
            "\n",
            "STEMMINNG\n",
            "\n",
            "Stemming for A is a\n",
            "Stemming for crop is crop\n",
            "Stemming for is is is\n",
            "Stemming for a is a\n",
            "Stemming for plant is plant\n",
            "Stemming for or is or\n",
            "Stemming for plant is plant\n",
            "Stemming for product is product\n",
            "Stemming for that is that\n",
            "Stemming for can is can\n",
            "Stemming for be is be\n",
            "Stemming for grown is grown\n",
            "Stemming for and is and\n",
            "Stemming for harvested is harvest\n",
            "Stemming for for is for\n",
            "Stemming for profit is profit\n",
            "Stemming for or is or\n",
            "Stemming for subsistence is subsist\n",
            "Stemming for . is .\n",
            "\n",
            "\n",
            "LEMMATIZATION\n",
            "\n",
            "Lemma for A is A\n",
            "Lemma for crop is crop\n",
            "Lemma for is is is\n",
            "Lemma for a is a\n",
            "Lemma for plant is plant\n",
            "Lemma for or is or\n",
            "Lemma for plant is plant\n",
            "Lemma for product is product\n",
            "Lemma for that is that\n",
            "Lemma for can is can\n",
            "Lemma for be is be\n",
            "Lemma for grown is grown\n",
            "Lemma for and is and\n",
            "Lemma for harvested is harvested\n",
            "Lemma for for is for\n",
            "Lemma for profit is profit\n",
            "Lemma for or is or\n",
            "Lemma for subsistence is subsistence\n",
            "Lemma for . is .\n"
          ]
        }
      ]
    }
  ]
}