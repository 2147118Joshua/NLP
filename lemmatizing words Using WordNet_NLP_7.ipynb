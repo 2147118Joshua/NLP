{
  "nbformat": 4,
  "nbformat_minor": 0,
  "metadata": {
    "colab": {
      "name": "lab7nlp.ipynb",
      "provenance": [],
      "collapsed_sections": [],
      "include_colab_link": true
    },
    "kernelspec": {
      "name": "python3",
      "display_name": "Python 3"
    },
    "language_info": {
      "name": "python"
    }
  },
  "cells": [
    {
      "cell_type": "markdown",
      "metadata": {
        "id": "view-in-github",
        "colab_type": "text"
      },
      "source": [
        "<a href=\"https://colab.research.google.com/github/2147118Joshua/NLP/blob/main/lemmatizing%20words%20Using%20WordNet_NLP_7.ipynb\" target=\"_parent\"><img src=\"https://colab.research.google.com/assets/colab-badge.svg\" alt=\"Open In Colab\"/></a>"
      ]
    },
    {
      "cell_type": "code",
      "execution_count": 12,
      "metadata": {
        "colab": {
          "base_uri": "https://localhost:8080/"
        },
        "id": "o1Y5ethZ6c3g",
        "outputId": "ba810be0-cb43-4916-d96d-0e1c28d0163e"
      },
      "outputs": [
        {
          "output_type": "stream",
          "name": "stderr",
          "text": [
            "[nltk_data] Downloading package wordnet to /root/nltk_data...\n",
            "[nltk_data]   Package wordnet is already up-to-date!\n",
            "[nltk_data] Downloading package omw-1.4 to /root/nltk_data...\n",
            "[nltk_data]   Package omw-1.4 is already up-to-date!\n",
            "[nltk_data] Downloading package punkt to /root/nltk_data...\n",
            "[nltk_data]   Package punkt is already up-to-date!\n"
          ]
        },
        {
          "output_type": "execute_result",
          "data": {
            "text/plain": [
              "True"
            ]
          },
          "metadata": {},
          "execution_count": 12
        }
      ],
      "source": [
        "import nltk \n",
        "nltk.download('wordnet') \n",
        "nltk.download('omw-1.4')\n",
        "nltk.download('punkt')"
      ]
    },
    {
      "cell_type": "markdown",
      "source": [
        "importing wordnetLemmatizer"
      ],
      "metadata": {
        "id": "y3aQukfm_gQR"
      }
    },
    {
      "cell_type": "code",
      "source": [
        "from nltk.stem import WordNetLemmatizer"
      ],
      "metadata": {
        "id": "uNYqmDA-6t7R"
      },
      "execution_count": 13,
      "outputs": []
    },
    {
      "cell_type": "markdown",
      "source": [
        "lemmatizing words"
      ],
      "metadata": {
        "id": "CbBkqb1X6vwP"
      }
    },
    {
      "cell_type": "code",
      "source": [
        "\n",
        "\n",
        "lemmatizer = WordNetLemmatizer()\n",
        " \n",
        "print(\"love :\", lemmatizer.lemmatize(\"loves\", wordnet.VERB))\n",
        "print(\"loving :\", lemmatizer.lemmatize(\"loving\", wordnet.VERB))\n",
        "print(\"loved :\", lemmatizer.lemmatize(\"loved\", pos=wordnet.VERB))"
      ],
      "metadata": {
        "colab": {
          "base_uri": "https://localhost:8080/"
        },
        "id": "N2W0upqA_bb_",
        "outputId": "e4ce60a0-1cf8-484b-da71-758b5a5129f4"
      },
      "execution_count": 14,
      "outputs": [
        {
          "output_type": "stream",
          "name": "stdout",
          "text": [
            "love : love\n",
            "loving : love\n",
            "loved : love\n"
          ]
        }
      ]
    },
    {
      "cell_type": "code",
      "source": [
        "# Init the Wordnet Lemmatizer\n",
        "lemmatizer = WordNetLemmatizer()\n",
        "print(\"mouse :\")\n",
        "print(lemmatizer.lemmatize(\"mice\"))\n",
        "print(\"\\nspreads :\")\n",
        "print(lemmatizer.lemmatize(\"spreads\"))\n",
        "print(\"\\nfeet :\")\n",
        "print(lemmatizer.lemmatize(\"feet\"))\n",
        "print(\"\\ncells :\")\n",
        "print(lemmatizer.lemmatize(\"cells\"))\n",
        "print(\"\\nreports :\")\n",
        "print(lemmatizer.lemmatize(\"reports\"))"
      ],
      "metadata": {
        "colab": {
          "base_uri": "https://localhost:8080/"
        },
        "id": "dBK9gBNh6yFW",
        "outputId": "7e467f81-9a0b-4941-dbe1-82e97e4fe266"
      },
      "execution_count": 6,
      "outputs": [
        {
          "output_type": "stream",
          "name": "stdout",
          "text": [
            "mouse :\n",
            "mouse\n",
            "\n",
            "spreads :\n",
            "spread\n",
            "\n",
            "feet :\n",
            "foot\n",
            "\n",
            "cells :\n",
            "cell\n",
            "\n",
            "reports :\n",
            "report\n"
          ]
        }
      ]
    },
    {
      "cell_type": "markdown",
      "source": [
        "lemmatizing sentences"
      ],
      "metadata": {
        "id": "oVqgC5lV8iYL"
      }
    },
    {
      "cell_type": "code",
      "source": [
        "# Define the sentence to be lemmatized\n",
        "text=\"Agriculture is the art and science of cultivating the soil, growing crops and raising livestock. It includes the preparation of plant and animal products for people to use and their distribution to markets.\"\n",
        "# Tokenize: Split the sentence into words\n",
        "\n",
        "print(\"original Text :\")\n",
        "print(text)\n",
        "word_list = nltk.word_tokenize(text)\n",
        "print(\"\\ntokinzed sentence:\")\n",
        "print(word_list)\n",
        "\n",
        "# Lemmatize list of words and join\n",
        "lemmatized_output = ' '.join([lemmatizer.lemmatize(w) for w in word_list])\n",
        "print(\"\\nLemmtized sentence :\")\n",
        "print(lemmatized_output)"
      ],
      "metadata": {
        "colab": {
          "base_uri": "https://localhost:8080/"
        },
        "id": "qhctQTX68oa3",
        "outputId": "e776954b-9bf8-48dd-a0ca-18fa7517d579"
      },
      "execution_count": 7,
      "outputs": [
        {
          "output_type": "stream",
          "name": "stdout",
          "text": [
            "original Text :\n",
            "Agriculture is the art and science of cultivating the soil, growing crops and raising livestock. It includes the preparation of plant and animal products for people to use and their distribution to markets.\n",
            "\n",
            "tokinzed sentence:\n",
            "['Agriculture', 'is', 'the', 'art', 'and', 'science', 'of', 'cultivating', 'the', 'soil', ',', 'growing', 'crops', 'and', 'raising', 'livestock', '.', 'It', 'includes', 'the', 'preparation', 'of', 'plant', 'and', 'animal', 'products', 'for', 'people', 'to', 'use', 'and', 'their', 'distribution', 'to', 'markets', '.']\n",
            "\n",
            "Lemmtized sentence :\n",
            "Agriculture is the art and science of cultivating the soil , growing crop and raising livestock . It includes the preparation of plant and animal product for people to use and their distribution to market .\n"
          ]
        }
      ]
    },
    {
      "cell_type": "markdown",
      "source": [
        "Wordnet Lemmatizer with appropriate POS tag"
      ],
      "metadata": {
        "id": "og9GTNbU9p08"
      }
    },
    {
      "cell_type": "code",
      "source": [
        "nltk.download('averaged_perceptron_tagger')"
      ],
      "metadata": {
        "colab": {
          "base_uri": "https://localhost:8080/"
        },
        "id": "zdpG6qiH-CiU",
        "outputId": "f4600863-1e0a-4eab-bc14-aedca5b444f0"
      },
      "execution_count": 15,
      "outputs": [
        {
          "output_type": "stream",
          "name": "stderr",
          "text": [
            "[nltk_data] Downloading package averaged_perceptron_tagger to\n",
            "[nltk_data]     /root/nltk_data...\n",
            "[nltk_data]   Package averaged_perceptron_tagger is already up-to-\n",
            "[nltk_data]       date!\n"
          ]
        },
        {
          "output_type": "execute_result",
          "data": {
            "text/plain": [
              "True"
            ]
          },
          "metadata": {},
          "execution_count": 15
        }
      ]
    },
    {
      "cell_type": "code",
      "source": [
        "print(nltk.pos_tag(['feet']))"
      ],
      "metadata": {
        "colab": {
          "base_uri": "https://localhost:8080/"
        },
        "id": "ujk6s-Q59quV",
        "outputId": "734dfc9d-c9f1-479a-f955-de96953efba0"
      },
      "execution_count": 16,
      "outputs": [
        {
          "output_type": "stream",
          "name": "stdout",
          "text": [
            "[('feet', 'NNS')]\n"
          ]
        }
      ]
    },
    {
      "cell_type": "code",
      "source": [
        "print(nltk.pos_tag(nltk.word_tokenize(text)))"
      ],
      "metadata": {
        "colab": {
          "base_uri": "https://localhost:8080/"
        },
        "id": "fDKaPocz-FCA",
        "outputId": "45e47097-7391-454c-b130-31d292afb6cb"
      },
      "execution_count": 17,
      "outputs": [
        {
          "output_type": "stream",
          "name": "stdout",
          "text": [
            "[('Agriculture', 'NN'), ('is', 'VBZ'), ('the', 'DT'), ('art', 'NN'), ('and', 'CC'), ('science', 'NN'), ('of', 'IN'), ('cultivating', 'VBG'), ('the', 'DT'), ('soil', 'NN'), (',', ','), ('growing', 'VBG'), ('crops', 'NNS'), ('and', 'CC'), ('raising', 'VBG'), ('livestock', 'NN'), ('.', '.'), ('It', 'PRP'), ('includes', 'VBZ'), ('the', 'DT'), ('preparation', 'NN'), ('of', 'IN'), ('plant', 'NN'), ('and', 'CC'), ('animal', 'NN'), ('products', 'NNS'), ('for', 'IN'), ('people', 'NNS'), ('to', 'TO'), ('use', 'VB'), ('and', 'CC'), ('their', 'PRP$'), ('distribution', 'NN'), ('to', 'TO'), ('markets', 'NNS'), ('.', '.')]\n"
          ]
        }
      ]
    },
    {
      "cell_type": "code",
      "source": [
        "# Lemmatize with POS Tag\n",
        "from nltk.corpus import wordnet\n",
        "\n",
        "def get_wordnet_pos(word):\n",
        "    \"\"\"Map POS tag to first character lemmatize() accepts\"\"\"\n",
        "    tag = nltk.pos_tag([word])[0][1][0].upper()\n",
        "    tag_dict = {\"J\": wordnet.ADJ,\n",
        "                \"N\": wordnet.NOUN,\n",
        "                \"V\": wordnet.VERB,\n",
        "                \"R\": wordnet.ADV}\n",
        "\n",
        "    return tag_dict.get(tag, wordnet.NOUN)\n",
        "\n",
        "\n",
        "# 1. Init Lemmatizer\n",
        "lemmatizer = WordNetLemmatizer()\n",
        "\n",
        "# 2. Lemmatize Single Word with the appropriate POS tag\n",
        "word = 'feet'\n",
        "print(lemmatizer.lemmatize(word, get_wordnet_pos(word)))\n",
        "\n",
        "# 3. Lemmatize a Sentence with the appropriate POS tag\n",
        "\n",
        "print([lemmatizer.lemmatize(w, get_wordnet_pos(w)) for w in nltk.word_tokenize(text)])"
      ],
      "metadata": {
        "colab": {
          "base_uri": "https://localhost:8080/"
        },
        "id": "kLxlFdVI-e3W",
        "outputId": "83166c21-b45b-4e0b-fed0-f02a23328418"
      },
      "execution_count": 18,
      "outputs": [
        {
          "output_type": "stream",
          "name": "stdout",
          "text": [
            "foot\n",
            "['Agriculture', 'be', 'the', 'art', 'and', 'science', 'of', 'cultivate', 'the', 'soil', ',', 'grow', 'crop', 'and', 'raise', 'livestock', '.', 'It', 'include', 'the', 'preparation', 'of', 'plant', 'and', 'animal', 'product', 'for', 'people', 'to', 'use', 'and', 'their', 'distribution', 'to', 'market', '.']\n"
          ]
        }
      ]
    }
  ]
}